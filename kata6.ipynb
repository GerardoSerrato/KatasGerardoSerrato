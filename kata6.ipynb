{
 "cells": [
  {
   "cell_type": "markdown",
   "metadata": {},
   "source": [
    "### EJERCICIO 1"
   ]
  },
  {
   "cell_type": "code",
   "execution_count": 11,
   "metadata": {},
   "outputs": [
    {
     "name": "stdout",
     "output_type": "stream",
     "text": [
      "Hay 8 planetas en el sistema Solar\n"
     ]
    }
   ],
   "source": [
    "planetas= [\"Mercurio\",\"Venus\",\"Tierra\",\"Marte\",\"Júpiter\",\"Saturno\",\"Urano\",\"Neptuno\"]\n",
    "print(f\"Hay {len(planetas)} planetas en el sistema Solar\")"
   ]
  },
  {
   "cell_type": "code",
   "execution_count": 12,
   "metadata": {},
   "outputs": [
    {
     "name": "stdout",
     "output_type": "stream",
     "text": [
      "Hay 9 planetas en el sistema Solar\n",
      "El último planeta del sistema Solar es Plutón\n"
     ]
    }
   ],
   "source": [
    "planetas.append(\"Plutón\")\n",
    "print(f\"Hay {len(planetas)} planetas en el sistema Solar\")\n",
    "print(f\"El último planeta del sistema Solar es {planetas[-1]}\")"
   ]
  },
  {
   "cell_type": "markdown",
   "metadata": {},
   "source": [
    "### EJERCICIO 2"
   ]
  },
  {
   "cell_type": "code",
   "execution_count": 16,
   "metadata": {},
   "outputs": [
    {
     "name": "stdout",
     "output_type": "stream",
     "text": [
      "Los planetas más cercanos al Sol son: ['Mercurio', 'Venus']\n",
      "Los planetas más allá de tu planeta son: ['Marte', 'Júpiter', 'Saturno', 'Urano', 'Neptuno']\n"
     ]
    }
   ],
   "source": [
    "planetas= [\"Mercurio\",\"Venus\",\"Tierra\",\"Marte\",\"Júpiter\",\"Saturno\",\"Urano\",\"Neptuno\"]\n",
    "usuario= input(\"Nombre de tu planeta\")\n",
    "lugar= planetas.index(usuario)\n",
    "print(f\"Los planetas más cercanos al Sol son: {planetas[0:lugar]}\")\n",
    "print(f\"Los planetas más allá de tu planeta son: {planetas[lugar+1:]}\")"
   ]
  }
 ],
 "metadata": {
  "interpreter": {
   "hash": "b7707d0fd917196f2d4aba67bbd5528966461e9bf7759ecd4c1b836b3c9c7a24"
  },
  "kernelspec": {
   "display_name": "Python 3.10.2 64-bit",
   "language": "python",
   "name": "python3"
  },
  "language_info": {
   "codemirror_mode": {
    "name": "ipython",
    "version": 3
   },
   "file_extension": ".py",
   "mimetype": "text/x-python",
   "name": "python",
   "nbconvert_exporter": "python",
   "pygments_lexer": "ipython3",
   "version": "3.10.2"
  },
  "orig_nbformat": 4
 },
 "nbformat": 4,
 "nbformat_minor": 2
}
