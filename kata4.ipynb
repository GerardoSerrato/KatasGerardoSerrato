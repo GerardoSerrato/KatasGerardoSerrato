{
 "cells": [
  {
   "cell_type": "markdown",
   "metadata": {},
   "source": [
    "# Ejercicio 1"
   ]
  },
  {
   "cell_type": "code",
   "execution_count": 197,
   "metadata": {},
   "outputs": [],
   "source": [
    "text = \"\"\"Interesting facts about the Moon. The Moon is Earth's only satellite. There are several interesting facts about the Moon and how it affects life here on Earth. \n",
    "On average, the Moon moves 4cm away from the Earth every year. This yearly drift is not significant enough to cause immediate effects on Earth. The highest daylight temperature of the Moon is 127 C.\"\"\""
   ]
  },
  {
   "cell_type": "code",
   "execution_count": 198,
   "metadata": {},
   "outputs": [],
   "source": [
    "oraciones= text.split(\". \")"
   ]
  },
  {
   "cell_type": "code",
   "execution_count": 199,
   "metadata": {},
   "outputs": [],
   "source": [
    "claves=[\"average\", \"temperature\", \"distance\"]"
   ]
  },
  {
   "cell_type": "code",
   "execution_count": 200,
   "metadata": {},
   "outputs": [
    {
     "name": "stdout",
     "output_type": "stream",
     "text": [
      "\n",
      "On average, the Moon moves 4cm away from the Earth every year\n",
      "The highest daylight temperature of the Moon is 127 C.\n"
     ]
    }
   ],
   "source": [
    "for i in oraciones:\n",
    "    for j in claves:\n",
    "        if j in i:\n",
    "            print (i)\n",
    "            break"
   ]
  },
  {
   "cell_type": "code",
   "execution_count": 201,
   "metadata": {},
   "outputs": [
    {
     "name": "stdout",
     "output_type": "stream",
     "text": [
      "['Interesting facts about the Moon', \"The Moon is Earth's only satellite\", 'There are several interesting facts about the Moon and how it affects life here on Earth', '\\nOn average, the Moon moves 4cm away from the Earth every year', 'This yearly drift is not significant enough to cause immediate effects on Earth', 'The highest daylight temperature of the Moon is 127 C.']\n"
     ]
    }
   ],
   "source": [
    "for i in oraciones:\n",
    "    i.replace(\"Celsius\",\"C\")\n",
    "print(oraciones)"
   ]
  },
  {
   "cell_type": "markdown",
   "metadata": {},
   "source": [
    "# Ejercicio 2"
   ]
  },
  {
   "cell_type": "code",
   "execution_count": 202,
   "metadata": {},
   "outputs": [],
   "source": [
    "name = \"Moon\"\n",
    "gravity = 0.00162 # in kms\n",
    "planet = \"Earth\" "
   ]
  },
  {
   "cell_type": "code",
   "execution_count": 203,
   "metadata": {},
   "outputs": [],
   "source": [
    "titulo=f\"Facts about the {name} gravity\""
   ]
  },
  {
   "cell_type": "code",
   "execution_count": 204,
   "metadata": {},
   "outputs": [
    {
     "name": "stdout",
     "output_type": "stream",
     "text": [
      "Satelite's name: Moon\n",
      "Satelite's gravity: 1.6199999999999999 m/s2\n",
      "Planet's name: Earth\n"
     ]
    }
   ],
   "source": [
    "plantilla= f\"\"\"Satelite's name: {name}\n",
    "Satelite's gravity: {gravity*1000} m/s2\n",
    "Planet's name: {planet}\"\"\"\n",
    "print(plantilla)"
   ]
  },
  {
   "cell_type": "code",
   "execution_count": 205,
   "metadata": {},
   "outputs": [
    {
     "name": "stdout",
     "output_type": "stream",
     "text": [
      "Facts About The Moon Gravity\n",
      "-----------------------------------------------------------------\n",
      "Satelite's name: Moon\n",
      "Satelite's gravity: 1.6199999999999999 m/s2\n",
      "Planet's name: Earth\n",
      "\n"
     ]
    }
   ],
   "source": [
    "completo= f\"\"\"{titulo.title()}\n",
    "-----------------------------------------------------------------\n",
    "{plantilla}\n",
    "\"\"\"\n",
    "print(completo)"
   ]
  },
  {
   "cell_type": "code",
   "execution_count": 206,
   "metadata": {},
   "outputs": [],
   "source": [
    "name = \"Ganimides\"\n",
    "gravity = 0.00143 # in kms\n",
    "planet = \"Mars\" "
   ]
  },
  {
   "cell_type": "code",
   "execution_count": 207,
   "metadata": {},
   "outputs": [
    {
     "name": "stdout",
     "output_type": "stream",
     "text": [
      "Facts About The Moon Gravity\n",
      "-----------------------------------------------------------------\n",
      "Satelite's name: Moon\n",
      "Satelite's gravity: 1.6199999999999999 m/s2\n",
      "Planet's name: Earth\n",
      "\n"
     ]
    }
   ],
   "source": [
    "print(completo)"
   ]
  },
  {
   "cell_type": "code",
   "execution_count": 208,
   "metadata": {},
   "outputs": [
    {
     "name": "stdout",
     "output_type": "stream",
     "text": [
      "\n",
      "Facts about Ganimides gravity:\n",
      "----------------------------------------------------------------------\n",
      "Satelite's gravity: 1.4300000000000002 m/s2\n",
      "Planet's name: Mars\n"
     ]
    }
   ],
   "source": [
    "n_gravity=gravity*1000\n",
    "n_plantilla= \"\"\"\n",
    "Facts about {} gravity:\n",
    "----------------------------------------------------------------------\n",
    "Satelite's gravity: {} m/s2\n",
    "Planet's name: {}\"\"\"\n",
    "print(n_plantilla.format(name,n_gravity,planet))"
   ]
  }
 ],
 "metadata": {
  "interpreter": {
   "hash": "b7707d0fd917196f2d4aba67bbd5528966461e9bf7759ecd4c1b836b3c9c7a24"
  },
  "kernelspec": {
   "display_name": "Python 3.10.2 64-bit",
   "language": "python",
   "name": "python3"
  },
  "language_info": {
   "codemirror_mode": {
    "name": "ipython",
    "version": 3
   },
   "file_extension": ".py",
   "mimetype": "text/x-python",
   "name": "python",
   "nbconvert_exporter": "python",
   "pygments_lexer": "ipython3",
   "version": "3.10.2"
  },
  "orig_nbformat": 4
 },
 "nbformat": 4,
 "nbformat_minor": 2
}
