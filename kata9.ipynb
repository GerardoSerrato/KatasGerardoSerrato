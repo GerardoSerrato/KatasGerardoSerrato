{
 "cells": [
  {
   "cell_type": "markdown",
   "metadata": {},
   "source": [
    "### EJERCICIO 1"
   ]
  },
  {
   "cell_type": "code",
   "execution_count": 5,
   "metadata": {},
   "outputs": [
    {
     "name": "stdout",
     "output_type": "stream",
     "text": [
      "Reporte de combustible:\n",
      "    Promedio: 60.0\n",
      "    Tanque 1= 80\n",
      "    Tanque 2= 80\n",
      "    Tanque 3= 20\n",
      "    \n"
     ]
    }
   ],
   "source": [
    "def promedio (tank1,tank2,tank3):\n",
    "    suma= tank1+tank2+tank3\n",
    "    return (suma/3)\n",
    "\n",
    "def reporte(tanque1,tanque2,tanque3):\n",
    "    return f\"\"\"Reporte de combustible:\n",
    "    Promedio: {promedio(tanque1,tanque2,tanque3)}\n",
    "    Tanque 1= {tanque1}\n",
    "    Tanque 2= {tanque2}\n",
    "    Tanque 3= {tanque3}\n",
    "    \"\"\"\n",
    "print(reporte(80,80,20))"
   ]
  },
  {
   "cell_type": "markdown",
   "metadata": {},
   "source": [
    "### EJERCICIO 2"
   ]
  },
  {
   "cell_type": "code",
   "execution_count": 6,
   "metadata": {},
   "outputs": [
    {
     "name": "stdout",
     "output_type": "stream",
     "text": [
      "Reporte de misión:\n",
      "    Hora de prelanzamiento---> 15:21\n",
      "    Tiempo de vuelo----------> 21 horas\n",
      "    Destino------------------> LEO\n",
      "    % Tanque externo---------> 80%   \n",
      "    % Tanque interno---------> 95%    \n",
      "    \n"
     ]
    }
   ],
   "source": [
    "def informe (hora_pre,tiempo_vuelo, destino,tanque_externo,tanque_interno):\n",
    "    return f\"\"\"Reporte de misión:\n",
    "    Hora de prelanzamiento---> {hora_pre}\n",
    "    Tiempo de vuelo----------> {tiempo_vuelo}\n",
    "    Destino------------------> {destino}\n",
    "    L Tanque externo---------> {tanque_externo}   \n",
    "    L Tanque interno---------> {tanque_interno}    \n",
    "    \"\"\"\n",
    "\n",
    "print(informe(\"15:21\",\"21 horas\",\"LEO\",\"30\",\"20\"))"
   ]
  },
  {
   "cell_type": "code",
   "execution_count": 8,
   "metadata": {},
   "outputs": [
    {
     "data": {
      "text/plain": [
       "'Reporte de misión:\\n    Hora de prelanzamiento---> 90\\n    Destino------------------> LEO\\n    Combustible total--------> 40  \\n    tanque lateral------> 15 litros\\ntanque trasero------> 20 litros\\ntanque arriba------> 5 litros\\n'"
      ]
     },
     "execution_count": 8,
     "metadata": {},
     "output_type": "execute_result"
    }
   ],
   "source": [
    "def informe (destino,*tiempos,**combustibles):\n",
    "    tiempo=0\n",
    "    combustible=0\n",
    "    for i in tiempos:\n",
    "        tiempo += i\n",
    "    lista_combustible= combustibles.values()\n",
    "    for i in lista_combustible:\n",
    "        combustible += i\n",
    "    final= f\"\"\"Reporte de misión:\n",
    "    Hora de prelanzamiento---> {tiempo}\n",
    "    Destino------------------> {destino}\n",
    "    Combustible total--------> {combustible}  \n",
    "    \"\"\"\n",
    "    for nombre, litros in combustibles.items():\n",
    "        final += f\"tanque {nombre}------> {litros} litros\\n\"\n",
    "    return final\n",
    "\n",
    "informe(\"LEO\",15,20,25,30,lateral=15,trasero=20,arriba=5)\n"
   ]
  }
 ],
 "metadata": {
  "interpreter": {
   "hash": "b7707d0fd917196f2d4aba67bbd5528966461e9bf7759ecd4c1b836b3c9c7a24"
  },
  "kernelspec": {
   "display_name": "Python 3.10.2 64-bit",
   "language": "python",
   "name": "python3"
  },
  "language_info": {
   "codemirror_mode": {
    "name": "ipython",
    "version": 3
   },
   "file_extension": ".py",
   "mimetype": "text/x-python",
   "name": "python",
   "nbconvert_exporter": "python",
   "pygments_lexer": "ipython3",
   "version": "3.10.2"
  },
  "orig_nbformat": 4
 },
 "nbformat": 4,
 "nbformat_minor": 2
}
