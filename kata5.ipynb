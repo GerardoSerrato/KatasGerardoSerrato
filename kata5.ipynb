{
 "cells": [
  {
   "cell_type": "markdown",
   "metadata": {},
   "source": [
    "### EJERCICIO 1"
   ]
  },
  {
   "cell_type": "code",
   "execution_count": 6,
   "metadata": {},
   "outputs": [
    {
     "name": "stdout",
     "output_type": "stream",
     "text": [
      "La distancia entre la Tierra y Júpiter es de 628949330 millas\n",
      "La distancia entre la Tierra y Júpiter es de 390577533.93 millas\n"
     ]
    }
   ],
   "source": [
    "tierra=149597870 #km\n",
    "jupiter= 778547200 #km\n",
    "distanciakm= abs(tierra - jupiter)\n",
    "print(f\"La distancia entre la Tierra y Júpiter es de {distanciakm} millas\")\n",
    "distanciami=distanciakm*0.621\n",
    "print(f\"La distancia entre la Tierra y Júpiter es de {distanciami} millas\")"
   ]
  },
  {
   "cell_type": "markdown",
   "metadata": {},
   "source": [
    "### EJERCICIO 2"
   ]
  },
  {
   "cell_type": "code",
   "execution_count": 7,
   "metadata": {},
   "outputs": [
    {
     "name": "stdout",
     "output_type": "stream",
     "text": [
      "La distancia entre planetas es de 78300000 kilometros\n",
      "La distancia entre planetas es de 48624300.0 millas\n"
     ]
    }
   ],
   "source": [
    "planeta1= input(\"¿Cuál es la distancia al Sol de tu primer planeta?: \")\n",
    "planeta2= input(\"¿Cuál es la distancia al Sol de tu segundo planeta?: \")\n",
    "resultadokm= abs(int(planeta1)-int(planeta2))\n",
    "print(f\"La distancia entre planetas es de {resultadokm} kilometros\")\n",
    "resultadomi=resultadokm*0.621\n",
    "print(f\"La distancia entre planetas es de {resultadomi} millas\")"
   ]
  }
 ],
 "metadata": {
  "interpreter": {
   "hash": "b7707d0fd917196f2d4aba67bbd5528966461e9bf7759ecd4c1b836b3c9c7a24"
  },
  "kernelspec": {
   "display_name": "Python 3.10.2 64-bit",
   "language": "python",
   "name": "python3"
  },
  "language_info": {
   "codemirror_mode": {
    "name": "ipython",
    "version": 3
   },
   "file_extension": ".py",
   "mimetype": "text/x-python",
   "name": "python",
   "nbconvert_exporter": "python",
   "pygments_lexer": "ipython3",
   "version": "3.10.2"
  },
  "orig_nbformat": 4
 },
 "nbformat": 4,
 "nbformat_minor": 2
}
