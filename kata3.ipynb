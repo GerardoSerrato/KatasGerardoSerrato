{
 "cells": [
  {
   "cell_type": "markdown",
   "metadata": {},
   "source": [
    "## EJERCICIO 1"
   ]
  },
  {
   "cell_type": "code",
   "execution_count": 19,
   "metadata": {},
   "outputs": [
    {
     "name": "stdout",
     "output_type": "stream",
     "text": [
      "ADVERTENCIA: Meteorito acercándose peligrosamente\n"
     ]
    }
   ],
   "source": [
    "#velocidad_asteroide es la velocidad a la que se acerca el asteroide.\n",
    "velocidad_asteroide=49 #km/s\n",
    "if velocidad_asteroide > 25:\n",
    "    print(\"ADVERTENCIA: Meteorito acercándose peligrosamente\")\n",
    "else:\n",
    "    print(\"Situación fuera de peligro\")"
   ]
  },
  {
   "cell_type": "markdown",
   "metadata": {},
   "source": [
    "## EJERCICIO 2"
   ]
  },
  {
   "cell_type": "code",
   "execution_count": 18,
   "metadata": {},
   "outputs": [
    {
     "name": "stdout",
     "output_type": "stream",
     "text": [
      "Que día más normal\n"
     ]
    }
   ],
   "source": [
    "#velocidad_entrada es la velocidad a la que ingresa nuestro metiorito.\n",
    "velocidad_entrada=19 #km/s\n",
    "if velocidad_entrada > 20:\n",
    "    print (\"Mira, ¿Ese es un rayo?\")\n",
    "elif velocidad_entrada == 20:\n",
    "    print (\"Mira, ¿Ese es un rayo?\")\n",
    "else:\n",
    "    print(\"Que día más normal\")"
   ]
  },
  {
   "cell_type": "markdown",
   "metadata": {},
   "source": [
    "## EJERCICIO 3"
   ]
  },
  {
   "cell_type": "code",
   "execution_count": 20,
   "metadata": {},
   "outputs": [
    {
     "name": "stdout",
     "output_type": "stream",
     "text": [
      "Mira, ¿Ese es un rayo?\n"
     ]
    }
   ],
   "source": [
    "velocidad_asteroid= 25\n",
    "tamaño_asteroide= 40\n",
    "if velocidad_asteroid>25 and tamaño_asteroide>25:\n",
    "    print(\"ADVERTENCIA: Asteroide acercándose peligrosamente\")\n",
    "if velocidad_asteroid >=20:\n",
    "        print(\"Mira, ¿Ese es un rayo?\")\n",
    "elif tamaño_asteroide < 25:\n",
    "    print(\"Que día más normal\")\n",
    "else:\n",
    "    print(\"Que día más normal\")"
   ]
  }
 ],
 "metadata": {
  "interpreter": {
   "hash": "b7707d0fd917196f2d4aba67bbd5528966461e9bf7759ecd4c1b836b3c9c7a24"
  },
  "kernelspec": {
   "display_name": "Python 3.10.2 64-bit",
   "language": "python",
   "name": "python3"
  },
  "language_info": {
   "codemirror_mode": {
    "name": "ipython",
    "version": 3
   },
   "file_extension": ".py",
   "mimetype": "text/x-python",
   "name": "python",
   "nbconvert_exporter": "python",
   "pygments_lexer": "ipython3",
   "version": "3.10.2"
  },
  "orig_nbformat": 4
 },
 "nbformat": 4,
 "nbformat_minor": 2
}
